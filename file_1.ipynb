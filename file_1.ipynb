{
 "cells": [
  {
   "cell_type": "code",
   "execution_count": 23,
   "id": "initial_id",
   "metadata": {
    "collapsed": true,
    "ExecuteTime": {
     "end_time": "2023-08-29T14:04:06.920447Z",
     "start_time": "2023-08-29T14:04:06.895502Z"
    }
   },
   "outputs": [],
   "source": [
    "# Necessary Imports\n",
    "import pandas as pd"
   ]
  },
  {
   "cell_type": "markdown",
   "source": [
    "## Data preparation"
   ],
   "metadata": {
    "collapsed": false
   },
   "id": "a7a15b25d233f235"
  },
  {
   "cell_type": "markdown",
   "source": [
    "### Load the Datasets"
   ],
   "metadata": {
    "collapsed": false
   },
   "id": "373200ae234fb89d"
  },
  {
   "cell_type": "code",
   "execution_count": 2,
   "outputs": [
    {
     "data": {
      "text/plain": "      Unnamed: 0 Produktionsdatum  Produkttyp  Produzierte Einheiten  \\\n0            NaN       2021-09-18          10                     27   \n1            NaN       2020-05-01           3                    649   \n2            NaN       2021-11-15           1                    230   \n3            NaN       2021-08-04           7                    882   \n4            NaN       2021-01-08           6                    205   \n...          ...              ...         ...                    ...   \n1087         NaN       2022-06-12           1                    116   \n1088         NaN       2022-11-20           6                    326   \n1089         NaN       2020-12-24           7                    797   \n1090         NaN       2022-12-09           8                     46   \n1091         NaN       2022-12-03           9                     10   \n\n      Arbeitskosten  Materialkosten  Overhead  \n0               675             297       378  \n1             14927             649      2596  \n2              5290             230      1150  \n3             17640             882      6174  \n4              3485             410      1025  \n...             ...             ...       ...  \n1087           1740             232       464  \n1088           5216             652       978  \n1089          14346             797      3985  \n1090           1518             874       460  \n1091            390             130       100  \n\n[1092 rows x 7 columns]",
      "text/html": "<div>\n<style scoped>\n    .dataframe tbody tr th:only-of-type {\n        vertical-align: middle;\n    }\n\n    .dataframe tbody tr th {\n        vertical-align: top;\n    }\n\n    .dataframe thead th {\n        text-align: right;\n    }\n</style>\n<table border=\"1\" class=\"dataframe\">\n  <thead>\n    <tr style=\"text-align: right;\">\n      <th></th>\n      <th>Unnamed: 0</th>\n      <th>Produktionsdatum</th>\n      <th>Produkttyp</th>\n      <th>Produzierte Einheiten</th>\n      <th>Arbeitskosten</th>\n      <th>Materialkosten</th>\n      <th>Overhead</th>\n    </tr>\n  </thead>\n  <tbody>\n    <tr>\n      <th>0</th>\n      <td>NaN</td>\n      <td>2021-09-18</td>\n      <td>10</td>\n      <td>27</td>\n      <td>675</td>\n      <td>297</td>\n      <td>378</td>\n    </tr>\n    <tr>\n      <th>1</th>\n      <td>NaN</td>\n      <td>2020-05-01</td>\n      <td>3</td>\n      <td>649</td>\n      <td>14927</td>\n      <td>649</td>\n      <td>2596</td>\n    </tr>\n    <tr>\n      <th>2</th>\n      <td>NaN</td>\n      <td>2021-11-15</td>\n      <td>1</td>\n      <td>230</td>\n      <td>5290</td>\n      <td>230</td>\n      <td>1150</td>\n    </tr>\n    <tr>\n      <th>3</th>\n      <td>NaN</td>\n      <td>2021-08-04</td>\n      <td>7</td>\n      <td>882</td>\n      <td>17640</td>\n      <td>882</td>\n      <td>6174</td>\n    </tr>\n    <tr>\n      <th>4</th>\n      <td>NaN</td>\n      <td>2021-01-08</td>\n      <td>6</td>\n      <td>205</td>\n      <td>3485</td>\n      <td>410</td>\n      <td>1025</td>\n    </tr>\n    <tr>\n      <th>...</th>\n      <td>...</td>\n      <td>...</td>\n      <td>...</td>\n      <td>...</td>\n      <td>...</td>\n      <td>...</td>\n      <td>...</td>\n    </tr>\n    <tr>\n      <th>1087</th>\n      <td>NaN</td>\n      <td>2022-06-12</td>\n      <td>1</td>\n      <td>116</td>\n      <td>1740</td>\n      <td>232</td>\n      <td>464</td>\n    </tr>\n    <tr>\n      <th>1088</th>\n      <td>NaN</td>\n      <td>2022-11-20</td>\n      <td>6</td>\n      <td>326</td>\n      <td>5216</td>\n      <td>652</td>\n      <td>978</td>\n    </tr>\n    <tr>\n      <th>1089</th>\n      <td>NaN</td>\n      <td>2020-12-24</td>\n      <td>7</td>\n      <td>797</td>\n      <td>14346</td>\n      <td>797</td>\n      <td>3985</td>\n    </tr>\n    <tr>\n      <th>1090</th>\n      <td>NaN</td>\n      <td>2022-12-09</td>\n      <td>8</td>\n      <td>46</td>\n      <td>1518</td>\n      <td>874</td>\n      <td>460</td>\n    </tr>\n    <tr>\n      <th>1091</th>\n      <td>NaN</td>\n      <td>2022-12-03</td>\n      <td>9</td>\n      <td>10</td>\n      <td>390</td>\n      <td>130</td>\n      <td>100</td>\n    </tr>\n  </tbody>\n</table>\n<p>1092 rows × 7 columns</p>\n</div>"
     },
     "execution_count": 2,
     "metadata": {},
     "output_type": "execute_result"
    }
   ],
   "source": [
    "# Load the dataset Fabrik 1\n",
    "fabrik_1 = pd.read_excel('C:\\\\Users\\\\User\\\\Desktop\\\\Data Analyst\\\\Aufgaben\\\\Visualisirung_Project\\\\project\\\\Project_3_Electro\\\\Praxisaufgabe - Fabriken.xlsx', sheet_name='Fabrik 1')\n",
    "fabrik_1"
   ],
   "metadata": {
    "collapsed": false,
    "ExecuteTime": {
     "end_time": "2023-08-29T13:58:26.466714500Z",
     "start_time": "2023-08-29T13:58:26.146434300Z"
    }
   },
   "id": "cbe7e6681888d379"
  },
  {
   "cell_type": "code",
   "execution_count": 3,
   "outputs": [
    {
     "data": {
      "text/plain": "     Produktionsdatum  Produkttyp  Produzierte Einheiten  Arbeitskosten  \\\n0          2021-09-18          10                     27            675   \n1          2020-05-01           3                    649          14927   \n2          2021-11-15           1                    230           5290   \n3          2021-08-04           7                    882          17640   \n4          2021-01-08           6                    205           3485   \n...               ...         ...                    ...            ...   \n1087       2022-06-12           1                    116           1740   \n1088       2022-11-20           6                    326           5216   \n1089       2020-12-24           7                    797          14346   \n1090       2022-12-09           8                     46           1518   \n1091       2022-12-03           9                     10            390   \n\n      Materialkosten  Overhead  \n0                297       378  \n1                649      2596  \n2                230      1150  \n3                882      6174  \n4                410      1025  \n...              ...       ...  \n1087             232       464  \n1088             652       978  \n1089             797      3985  \n1090             874       460  \n1091             130       100  \n\n[1092 rows x 6 columns]",
      "text/html": "<div>\n<style scoped>\n    .dataframe tbody tr th:only-of-type {\n        vertical-align: middle;\n    }\n\n    .dataframe tbody tr th {\n        vertical-align: top;\n    }\n\n    .dataframe thead th {\n        text-align: right;\n    }\n</style>\n<table border=\"1\" class=\"dataframe\">\n  <thead>\n    <tr style=\"text-align: right;\">\n      <th></th>\n      <th>Produktionsdatum</th>\n      <th>Produkttyp</th>\n      <th>Produzierte Einheiten</th>\n      <th>Arbeitskosten</th>\n      <th>Materialkosten</th>\n      <th>Overhead</th>\n    </tr>\n  </thead>\n  <tbody>\n    <tr>\n      <th>0</th>\n      <td>2021-09-18</td>\n      <td>10</td>\n      <td>27</td>\n      <td>675</td>\n      <td>297</td>\n      <td>378</td>\n    </tr>\n    <tr>\n      <th>1</th>\n      <td>2020-05-01</td>\n      <td>3</td>\n      <td>649</td>\n      <td>14927</td>\n      <td>649</td>\n      <td>2596</td>\n    </tr>\n    <tr>\n      <th>2</th>\n      <td>2021-11-15</td>\n      <td>1</td>\n      <td>230</td>\n      <td>5290</td>\n      <td>230</td>\n      <td>1150</td>\n    </tr>\n    <tr>\n      <th>3</th>\n      <td>2021-08-04</td>\n      <td>7</td>\n      <td>882</td>\n      <td>17640</td>\n      <td>882</td>\n      <td>6174</td>\n    </tr>\n    <tr>\n      <th>4</th>\n      <td>2021-01-08</td>\n      <td>6</td>\n      <td>205</td>\n      <td>3485</td>\n      <td>410</td>\n      <td>1025</td>\n    </tr>\n    <tr>\n      <th>...</th>\n      <td>...</td>\n      <td>...</td>\n      <td>...</td>\n      <td>...</td>\n      <td>...</td>\n      <td>...</td>\n    </tr>\n    <tr>\n      <th>1087</th>\n      <td>2022-06-12</td>\n      <td>1</td>\n      <td>116</td>\n      <td>1740</td>\n      <td>232</td>\n      <td>464</td>\n    </tr>\n    <tr>\n      <th>1088</th>\n      <td>2022-11-20</td>\n      <td>6</td>\n      <td>326</td>\n      <td>5216</td>\n      <td>652</td>\n      <td>978</td>\n    </tr>\n    <tr>\n      <th>1089</th>\n      <td>2020-12-24</td>\n      <td>7</td>\n      <td>797</td>\n      <td>14346</td>\n      <td>797</td>\n      <td>3985</td>\n    </tr>\n    <tr>\n      <th>1090</th>\n      <td>2022-12-09</td>\n      <td>8</td>\n      <td>46</td>\n      <td>1518</td>\n      <td>874</td>\n      <td>460</td>\n    </tr>\n    <tr>\n      <th>1091</th>\n      <td>2022-12-03</td>\n      <td>9</td>\n      <td>10</td>\n      <td>390</td>\n      <td>130</td>\n      <td>100</td>\n    </tr>\n  </tbody>\n</table>\n<p>1092 rows × 6 columns</p>\n</div>"
     },
     "execution_count": 3,
     "metadata": {},
     "output_type": "execute_result"
    }
   ],
   "source": [
    "# Delete the column 'Unnamed'\n",
    "fabrik_1.drop(columns='Unnamed: 0', inplace=True)\n",
    "fabrik_1"
   ],
   "metadata": {
    "collapsed": false,
    "ExecuteTime": {
     "end_time": "2023-08-29T13:58:39.969659Z",
     "start_time": "2023-08-29T13:58:39.849710100Z"
    }
   },
   "id": "da8c375dd3cb65ff"
  },
  {
   "cell_type": "code",
   "execution_count": 4,
   "outputs": [
    {
     "data": {
      "text/plain": "     Produktionsdatum  Produkttyp  Produzierte Einheiten  Arbeitskosten  \\\n0          2021-02-01           7                    697          11152   \n1          2021-05-03           8                     62           1116   \n2          2020-08-22           3                    169           2535   \n3          2022-07-27           4                    465           8370   \n4          2022-08-02          10                     79           1185   \n...               ...         ...                    ...            ...   \n1437       2021-08-08           5                    706           7060   \n1438       2022-08-14           7                    163           2934   \n1439       2022-10-03           6                    636          10812   \n1440       2022-11-11           5                    625           8125   \n1441       2022-09-30           8                     45            675   \n\n      Materialkosten  Energiekosten  \n0               1394           6273  \n1                744            682  \n2                169           1521  \n3                465           3720  \n4               1343            790  \n...              ...            ...  \n1437            1412           2824  \n1438             163           1304  \n1439             636           4452  \n1440            1250           3750  \n1441            1035            495  \n\n[1442 rows x 6 columns]",
      "text/html": "<div>\n<style scoped>\n    .dataframe tbody tr th:only-of-type {\n        vertical-align: middle;\n    }\n\n    .dataframe tbody tr th {\n        vertical-align: top;\n    }\n\n    .dataframe thead th {\n        text-align: right;\n    }\n</style>\n<table border=\"1\" class=\"dataframe\">\n  <thead>\n    <tr style=\"text-align: right;\">\n      <th></th>\n      <th>Produktionsdatum</th>\n      <th>Produkttyp</th>\n      <th>Produzierte Einheiten</th>\n      <th>Arbeitskosten</th>\n      <th>Materialkosten</th>\n      <th>Energiekosten</th>\n    </tr>\n  </thead>\n  <tbody>\n    <tr>\n      <th>0</th>\n      <td>2021-02-01</td>\n      <td>7</td>\n      <td>697</td>\n      <td>11152</td>\n      <td>1394</td>\n      <td>6273</td>\n    </tr>\n    <tr>\n      <th>1</th>\n      <td>2021-05-03</td>\n      <td>8</td>\n      <td>62</td>\n      <td>1116</td>\n      <td>744</td>\n      <td>682</td>\n    </tr>\n    <tr>\n      <th>2</th>\n      <td>2020-08-22</td>\n      <td>3</td>\n      <td>169</td>\n      <td>2535</td>\n      <td>169</td>\n      <td>1521</td>\n    </tr>\n    <tr>\n      <th>3</th>\n      <td>2022-07-27</td>\n      <td>4</td>\n      <td>465</td>\n      <td>8370</td>\n      <td>465</td>\n      <td>3720</td>\n    </tr>\n    <tr>\n      <th>4</th>\n      <td>2022-08-02</td>\n      <td>10</td>\n      <td>79</td>\n      <td>1185</td>\n      <td>1343</td>\n      <td>790</td>\n    </tr>\n    <tr>\n      <th>...</th>\n      <td>...</td>\n      <td>...</td>\n      <td>...</td>\n      <td>...</td>\n      <td>...</td>\n      <td>...</td>\n    </tr>\n    <tr>\n      <th>1437</th>\n      <td>2021-08-08</td>\n      <td>5</td>\n      <td>706</td>\n      <td>7060</td>\n      <td>1412</td>\n      <td>2824</td>\n    </tr>\n    <tr>\n      <th>1438</th>\n      <td>2022-08-14</td>\n      <td>7</td>\n      <td>163</td>\n      <td>2934</td>\n      <td>163</td>\n      <td>1304</td>\n    </tr>\n    <tr>\n      <th>1439</th>\n      <td>2022-10-03</td>\n      <td>6</td>\n      <td>636</td>\n      <td>10812</td>\n      <td>636</td>\n      <td>4452</td>\n    </tr>\n    <tr>\n      <th>1440</th>\n      <td>2022-11-11</td>\n      <td>5</td>\n      <td>625</td>\n      <td>8125</td>\n      <td>1250</td>\n      <td>3750</td>\n    </tr>\n    <tr>\n      <th>1441</th>\n      <td>2022-09-30</td>\n      <td>8</td>\n      <td>45</td>\n      <td>675</td>\n      <td>1035</td>\n      <td>495</td>\n    </tr>\n  </tbody>\n</table>\n<p>1442 rows × 6 columns</p>\n</div>"
     },
     "execution_count": 4,
     "metadata": {},
     "output_type": "execute_result"
    }
   ],
   "source": [
    "# Load the dataset Fabrik 2\n",
    "fabrik_2 = pd.read_excel('C:\\\\Users\\\\User\\\\Desktop\\\\Data Analyst\\\\Aufgaben\\\\Visualisirung_Project\\\\project\\\\Project_3_Electro\\\\Praxisaufgabe - Fabriken.xlsx', sheet_name='Fabrik 2')\n",
    "fabrik_2"
   ],
   "metadata": {
    "collapsed": false,
    "ExecuteTime": {
     "end_time": "2023-08-29T13:58:50.918782400Z",
     "start_time": "2023-08-29T13:58:50.796384500Z"
    }
   },
   "id": "8086daf8fb30a785"
  },
  {
   "cell_type": "code",
   "execution_count": 5,
   "outputs": [
    {
     "data": {
      "text/plain": "   Produkttyp                      Produkttyp Name  Zielgewinnspanne\n0           1          Wi-Fi Smelly Socks Detector              0.69\n1           2               Bluetooth Banana Phone              0.41\n2           3    Virtual Reality Nose Hair Trimmer              0.51\n3           4                 Robotic Pizza Butler              0.46\n4           5                       Selfie Toaster              0.41\n5           6  Electric Toothbrush Karaoke Machine              0.07\n6           7             Solar-Powered Rain Cloud              0.88\n7           8              Quantum Potato Computer              0.91\n8           9                            BananaBox              0.69\n9          10                        CheeseStation              0.97",
      "text/html": "<div>\n<style scoped>\n    .dataframe tbody tr th:only-of-type {\n        vertical-align: middle;\n    }\n\n    .dataframe tbody tr th {\n        vertical-align: top;\n    }\n\n    .dataframe thead th {\n        text-align: right;\n    }\n</style>\n<table border=\"1\" class=\"dataframe\">\n  <thead>\n    <tr style=\"text-align: right;\">\n      <th></th>\n      <th>Produkttyp</th>\n      <th>Produkttyp Name</th>\n      <th>Zielgewinnspanne</th>\n    </tr>\n  </thead>\n  <tbody>\n    <tr>\n      <th>0</th>\n      <td>1</td>\n      <td>Wi-Fi Smelly Socks Detector</td>\n      <td>0.69</td>\n    </tr>\n    <tr>\n      <th>1</th>\n      <td>2</td>\n      <td>Bluetooth Banana Phone</td>\n      <td>0.41</td>\n    </tr>\n    <tr>\n      <th>2</th>\n      <td>3</td>\n      <td>Virtual Reality Nose Hair Trimmer</td>\n      <td>0.51</td>\n    </tr>\n    <tr>\n      <th>3</th>\n      <td>4</td>\n      <td>Robotic Pizza Butler</td>\n      <td>0.46</td>\n    </tr>\n    <tr>\n      <th>4</th>\n      <td>5</td>\n      <td>Selfie Toaster</td>\n      <td>0.41</td>\n    </tr>\n    <tr>\n      <th>5</th>\n      <td>6</td>\n      <td>Electric Toothbrush Karaoke Machine</td>\n      <td>0.07</td>\n    </tr>\n    <tr>\n      <th>6</th>\n      <td>7</td>\n      <td>Solar-Powered Rain Cloud</td>\n      <td>0.88</td>\n    </tr>\n    <tr>\n      <th>7</th>\n      <td>8</td>\n      <td>Quantum Potato Computer</td>\n      <td>0.91</td>\n    </tr>\n    <tr>\n      <th>8</th>\n      <td>9</td>\n      <td>BananaBox</td>\n      <td>0.69</td>\n    </tr>\n    <tr>\n      <th>9</th>\n      <td>10</td>\n      <td>CheeseStation</td>\n      <td>0.97</td>\n    </tr>\n  </tbody>\n</table>\n</div>"
     },
     "execution_count": 5,
     "metadata": {},
     "output_type": "execute_result"
    }
   ],
   "source": [
    "# Load dataset Products Types\n",
    "products_infos = pd.read_excel('C:\\\\Users\\\\User\\\\Desktop\\\\Data Analyst\\\\Aufgaben\\\\Visualisirung_Project\\\\project\\\\Project_3_Electro\\\\Praxisaufgabe - Zielgewinnspanne.xlsx')\n",
    "products_infos\n"
   ],
   "metadata": {
    "collapsed": false,
    "ExecuteTime": {
     "end_time": "2023-08-29T13:59:04.972120Z",
     "start_time": "2023-08-29T13:59:04.926962400Z"
    }
   },
   "id": "63490d2ccc6048e3"
  },
  {
   "cell_type": "markdown",
   "source": [
    "## Information about the columns and the data frames "
   ],
   "metadata": {
    "collapsed": false
   },
   "id": "de05a9b878dbfe31"
  },
  {
   "cell_type": "code",
   "execution_count": 6,
   "outputs": [
    {
     "name": "stdout",
     "output_type": "stream",
     "text": [
      "<class 'pandas.core.frame.DataFrame'>\n",
      "RangeIndex: 1092 entries, 0 to 1091\n",
      "Data columns (total 6 columns):\n",
      " #   Column                 Non-Null Count  Dtype         \n",
      "---  ------                 --------------  -----         \n",
      " 0   Produktionsdatum       1092 non-null   datetime64[ns]\n",
      " 1   Produkttyp             1092 non-null   int64         \n",
      " 2   Produzierte Einheiten  1092 non-null   int64         \n",
      " 3   Arbeitskosten          1092 non-null   int64         \n",
      " 4   Materialkosten         1092 non-null   int64         \n",
      " 5   Overhead               1092 non-null   int64         \n",
      "dtypes: datetime64[ns](1), int64(5)\n",
      "memory usage: 51.3 KB\n",
      "None\n",
      "<class 'pandas.core.frame.DataFrame'>\n",
      "RangeIndex: 1442 entries, 0 to 1441\n",
      "Data columns (total 6 columns):\n",
      " #   Column                 Non-Null Count  Dtype         \n",
      "---  ------                 --------------  -----         \n",
      " 0   Produktionsdatum       1442 non-null   datetime64[ns]\n",
      " 1   Produkttyp             1442 non-null   int64         \n",
      " 2   Produzierte Einheiten  1442 non-null   int64         \n",
      " 3   Arbeitskosten          1442 non-null   int64         \n",
      " 4   Materialkosten         1442 non-null   int64         \n",
      " 5   Energiekosten          1442 non-null   int64         \n",
      "dtypes: datetime64[ns](1), int64(5)\n",
      "memory usage: 67.7 KB\n",
      "None\n",
      "<class 'pandas.core.frame.DataFrame'>\n",
      "RangeIndex: 10 entries, 0 to 9\n",
      "Data columns (total 3 columns):\n",
      " #   Column            Non-Null Count  Dtype  \n",
      "---  ------            --------------  -----  \n",
      " 0   Produkttyp        10 non-null     int64  \n",
      " 1   Produkttyp Name   10 non-null     object \n",
      " 2   Zielgewinnspanne  10 non-null     float64\n",
      "dtypes: float64(1), int64(1), object(1)\n",
      "memory usage: 372.0+ bytes\n"
     ]
    }
   ],
   "source": [
    "# Data frame infos\n",
    "print(fabrik_1.info())\n",
    "print(fabrik_2.info())\n",
    "products_infos.info()"
   ],
   "metadata": {
    "collapsed": false,
    "ExecuteTime": {
     "end_time": "2023-08-29T13:59:32.357962300Z",
     "start_time": "2023-08-29T13:59:32.322510100Z"
    }
   },
   "id": "4ca1b2edf35a3d10"
  },
  {
   "cell_type": "code",
   "execution_count": 7,
   "outputs": [
    {
     "name": "stdout",
     "output_type": "stream",
     "text": [
      "Index(['Produktionsdatum', 'Produkttyp', 'Produzierte Einheiten',\n",
      "       'Arbeitskosten', 'Materialkosten', 'Overhead'],\n",
      "      dtype='object')\n",
      "Index(['Produktionsdatum', 'Produkttyp', 'Produzierte Einheiten',\n",
      "       'Arbeitskosten', 'Materialkosten', 'Energiekosten'],\n",
      "      dtype='object')\n",
      "Index(['Produkttyp', 'Produkttyp Name', 'Zielgewinnspanne'], dtype='object')\n"
     ]
    }
   ],
   "source": [
    "# Columns of the data frames\n",
    "print(fabrik_1.columns)\n",
    "print(fabrik_2.columns)\n",
    "print(products_infos.columns)"
   ],
   "metadata": {
    "collapsed": false,
    "ExecuteTime": {
     "end_time": "2023-08-29T13:59:41.549910900Z",
     "start_time": "2023-08-29T13:59:41.513655Z"
    }
   },
   "id": "d11e4d12a004232d"
  },
  {
   "cell_type": "markdown",
   "source": [
    "## Missing Values"
   ],
   "metadata": {
    "collapsed": false
   },
   "id": "4e2f2c52ee477d09"
  },
  {
   "cell_type": "code",
   "execution_count": 8,
   "outputs": [
    {
     "name": "stdout",
     "output_type": "stream",
     "text": [
      "Produktionsdatum         0\n",
      "Produkttyp               0\n",
      "Produzierte Einheiten    0\n",
      "Arbeitskosten            0\n",
      "Materialkosten           0\n",
      "Overhead                 0\n",
      "dtype: int64\n",
      "Produktionsdatum         0\n",
      "Produkttyp               0\n",
      "Produzierte Einheiten    0\n",
      "Arbeitskosten            0\n",
      "Materialkosten           0\n",
      "Energiekosten            0\n",
      "dtype: int64\n",
      "Produkttyp          0\n",
      "Produkttyp Name     0\n",
      "Zielgewinnspanne    0\n",
      "dtype: int64\n"
     ]
    }
   ],
   "source": [
    "print(fabrik_1.isna().sum())\n",
    "print(fabrik_2.isna().sum())\n",
    "print(products_infos.isna().sum())\n",
    "\n",
    "# There are No Missing Values"
   ],
   "metadata": {
    "collapsed": false,
    "ExecuteTime": {
     "end_time": "2023-08-29T14:00:03.144870600Z",
     "start_time": "2023-08-29T14:00:03.118901600Z"
    }
   },
   "id": "516b530b86d60059"
  },
  {
   "cell_type": "code",
   "execution_count": 9,
   "outputs": [
    {
     "name": "stdout",
     "output_type": "stream",
     "text": [
      "---------Fabrik 1 Dates----------\n",
      "First Date: 2020-01-01 00:00:00\n",
      "Last Date : 2022-12-31 00:00:00\n",
      "\n",
      "---------Fabrik 2 Dates----------\n",
      "First Date: 2020-01-01 00:00:00\n",
      "Last Date : 2022-12-31 00:00:00\n"
     ]
    }
   ],
   "source": [
    "print('---------Fabrik 1 Dates----------')\n",
    "print('First Date:', fabrik_1['Produktionsdatum'].min())\n",
    "print('Last Date :', fabrik_1['Produktionsdatum'].max())\n",
    "print('')\n",
    "print('---------Fabrik 2 Dates----------')\n",
    "print('First Date:', fabrik_2['Produktionsdatum'].min())\n",
    "print('Last Date :', fabrik_2['Produktionsdatum'].max())"
   ],
   "metadata": {
    "collapsed": false,
    "ExecuteTime": {
     "end_time": "2023-08-29T14:00:20.944583300Z",
     "start_time": "2023-08-29T14:00:20.924522600Z"
    }
   },
   "id": "cd9652da4fc5a22e"
  },
  {
   "cell_type": "markdown",
   "source": [
    "## Combine the Data Frames"
   ],
   "metadata": {
    "collapsed": false
   },
   "id": "b5e2a04fa3e6943f"
  },
  {
   "cell_type": "code",
   "execution_count": 10,
   "outputs": [],
   "source": [
    "# Merge fabrik_1 and fabrik_2 with products_infos based on 'Produkttyp'\n",
    "\n",
    "fabrik_1_merged = pd.merge(fabrik_1, products_infos, on='Produkttyp', how='left')\n",
    "fabrik_2_merged = pd.merge(fabrik_2, products_infos, on='Produkttyp', how='left')\n"
   ],
   "metadata": {
    "collapsed": false,
    "ExecuteTime": {
     "end_time": "2023-08-29T14:00:45.387014700Z",
     "start_time": "2023-08-29T14:00:45.364829700Z"
    }
   },
   "id": "d733a0dc90cd4f03"
  },
  {
   "cell_type": "code",
   "execution_count": 11,
   "outputs": [
    {
     "data": {
      "text/plain": "     Produktionsdatum  Produkttyp  Produzierte Einheiten  Arbeitskosten  \\\n0          2021-09-18          10                     27            675   \n1          2020-05-01           3                    649          14927   \n2          2021-11-15           1                    230           5290   \n3          2021-08-04           7                    882          17640   \n4          2021-01-08           6                    205           3485   \n...               ...         ...                    ...            ...   \n1087       2022-06-12           1                    116           1740   \n1088       2022-11-20           6                    326           5216   \n1089       2020-12-24           7                    797          14346   \n1090       2022-12-09           8                     46           1518   \n1091       2022-12-03           9                     10            390   \n\n      Materialkosten  Overhead                      Produkttyp Name  \\\n0                297       378                        CheeseStation   \n1                649      2596    Virtual Reality Nose Hair Trimmer   \n2                230      1150          Wi-Fi Smelly Socks Detector   \n3                882      6174             Solar-Powered Rain Cloud   \n4                410      1025  Electric Toothbrush Karaoke Machine   \n...              ...       ...                                  ...   \n1087             232       464          Wi-Fi Smelly Socks Detector   \n1088             652       978  Electric Toothbrush Karaoke Machine   \n1089             797      3985             Solar-Powered Rain Cloud   \n1090             874       460              Quantum Potato Computer   \n1091             130       100                            BananaBox   \n\n      Zielgewinnspanne  \n0                 0.97  \n1                 0.51  \n2                 0.69  \n3                 0.88  \n4                 0.07  \n...                ...  \n1087              0.69  \n1088              0.07  \n1089              0.88  \n1090              0.91  \n1091              0.69  \n\n[1092 rows x 8 columns]",
      "text/html": "<div>\n<style scoped>\n    .dataframe tbody tr th:only-of-type {\n        vertical-align: middle;\n    }\n\n    .dataframe tbody tr th {\n        vertical-align: top;\n    }\n\n    .dataframe thead th {\n        text-align: right;\n    }\n</style>\n<table border=\"1\" class=\"dataframe\">\n  <thead>\n    <tr style=\"text-align: right;\">\n      <th></th>\n      <th>Produktionsdatum</th>\n      <th>Produkttyp</th>\n      <th>Produzierte Einheiten</th>\n      <th>Arbeitskosten</th>\n      <th>Materialkosten</th>\n      <th>Overhead</th>\n      <th>Produkttyp Name</th>\n      <th>Zielgewinnspanne</th>\n    </tr>\n  </thead>\n  <tbody>\n    <tr>\n      <th>0</th>\n      <td>2021-09-18</td>\n      <td>10</td>\n      <td>27</td>\n      <td>675</td>\n      <td>297</td>\n      <td>378</td>\n      <td>CheeseStation</td>\n      <td>0.97</td>\n    </tr>\n    <tr>\n      <th>1</th>\n      <td>2020-05-01</td>\n      <td>3</td>\n      <td>649</td>\n      <td>14927</td>\n      <td>649</td>\n      <td>2596</td>\n      <td>Virtual Reality Nose Hair Trimmer</td>\n      <td>0.51</td>\n    </tr>\n    <tr>\n      <th>2</th>\n      <td>2021-11-15</td>\n      <td>1</td>\n      <td>230</td>\n      <td>5290</td>\n      <td>230</td>\n      <td>1150</td>\n      <td>Wi-Fi Smelly Socks Detector</td>\n      <td>0.69</td>\n    </tr>\n    <tr>\n      <th>3</th>\n      <td>2021-08-04</td>\n      <td>7</td>\n      <td>882</td>\n      <td>17640</td>\n      <td>882</td>\n      <td>6174</td>\n      <td>Solar-Powered Rain Cloud</td>\n      <td>0.88</td>\n    </tr>\n    <tr>\n      <th>4</th>\n      <td>2021-01-08</td>\n      <td>6</td>\n      <td>205</td>\n      <td>3485</td>\n      <td>410</td>\n      <td>1025</td>\n      <td>Electric Toothbrush Karaoke Machine</td>\n      <td>0.07</td>\n    </tr>\n    <tr>\n      <th>...</th>\n      <td>...</td>\n      <td>...</td>\n      <td>...</td>\n      <td>...</td>\n      <td>...</td>\n      <td>...</td>\n      <td>...</td>\n      <td>...</td>\n    </tr>\n    <tr>\n      <th>1087</th>\n      <td>2022-06-12</td>\n      <td>1</td>\n      <td>116</td>\n      <td>1740</td>\n      <td>232</td>\n      <td>464</td>\n      <td>Wi-Fi Smelly Socks Detector</td>\n      <td>0.69</td>\n    </tr>\n    <tr>\n      <th>1088</th>\n      <td>2022-11-20</td>\n      <td>6</td>\n      <td>326</td>\n      <td>5216</td>\n      <td>652</td>\n      <td>978</td>\n      <td>Electric Toothbrush Karaoke Machine</td>\n      <td>0.07</td>\n    </tr>\n    <tr>\n      <th>1089</th>\n      <td>2020-12-24</td>\n      <td>7</td>\n      <td>797</td>\n      <td>14346</td>\n      <td>797</td>\n      <td>3985</td>\n      <td>Solar-Powered Rain Cloud</td>\n      <td>0.88</td>\n    </tr>\n    <tr>\n      <th>1090</th>\n      <td>2022-12-09</td>\n      <td>8</td>\n      <td>46</td>\n      <td>1518</td>\n      <td>874</td>\n      <td>460</td>\n      <td>Quantum Potato Computer</td>\n      <td>0.91</td>\n    </tr>\n    <tr>\n      <th>1091</th>\n      <td>2022-12-03</td>\n      <td>9</td>\n      <td>10</td>\n      <td>390</td>\n      <td>130</td>\n      <td>100</td>\n      <td>BananaBox</td>\n      <td>0.69</td>\n    </tr>\n  </tbody>\n</table>\n<p>1092 rows × 8 columns</p>\n</div>"
     },
     "execution_count": 11,
     "metadata": {},
     "output_type": "execute_result"
    }
   ],
   "source": [
    "fabrik_1_merged"
   ],
   "metadata": {
    "collapsed": false,
    "ExecuteTime": {
     "end_time": "2023-08-29T14:00:57.668512800Z",
     "start_time": "2023-08-29T14:00:57.647008300Z"
    }
   },
   "id": "4936b58c042b1936"
  },
  {
   "cell_type": "code",
   "execution_count": 13,
   "outputs": [
    {
     "data": {
      "text/plain": "     Produktionsdatum  Produkttyp  Produzierte Einheiten  Arbeitskosten  \\\n0          2021-02-01           7                    697          11152   \n1          2021-05-03           8                     62           1116   \n2          2020-08-22           3                    169           2535   \n3          2022-07-27           4                    465           8370   \n4          2022-08-02          10                     79           1185   \n...               ...         ...                    ...            ...   \n1437       2021-08-08           5                    706           7060   \n1438       2022-08-14           7                    163           2934   \n1439       2022-10-03           6                    636          10812   \n1440       2022-11-11           5                    625           8125   \n1441       2022-09-30           8                     45            675   \n\n      Materialkosten  Energiekosten                      Produkttyp Name  \\\n0               1394           6273             Solar-Powered Rain Cloud   \n1                744            682              Quantum Potato Computer   \n2                169           1521    Virtual Reality Nose Hair Trimmer   \n3                465           3720                 Robotic Pizza Butler   \n4               1343            790                        CheeseStation   \n...              ...            ...                                  ...   \n1437            1412           2824                       Selfie Toaster   \n1438             163           1304             Solar-Powered Rain Cloud   \n1439             636           4452  Electric Toothbrush Karaoke Machine   \n1440            1250           3750                       Selfie Toaster   \n1441            1035            495              Quantum Potato Computer   \n\n      Zielgewinnspanne  \n0                 0.88  \n1                 0.91  \n2                 0.51  \n3                 0.46  \n4                 0.97  \n...                ...  \n1437              0.41  \n1438              0.88  \n1439              0.07  \n1440              0.41  \n1441              0.91  \n\n[1442 rows x 8 columns]",
      "text/html": "<div>\n<style scoped>\n    .dataframe tbody tr th:only-of-type {\n        vertical-align: middle;\n    }\n\n    .dataframe tbody tr th {\n        vertical-align: top;\n    }\n\n    .dataframe thead th {\n        text-align: right;\n    }\n</style>\n<table border=\"1\" class=\"dataframe\">\n  <thead>\n    <tr style=\"text-align: right;\">\n      <th></th>\n      <th>Produktionsdatum</th>\n      <th>Produkttyp</th>\n      <th>Produzierte Einheiten</th>\n      <th>Arbeitskosten</th>\n      <th>Materialkosten</th>\n      <th>Energiekosten</th>\n      <th>Produkttyp Name</th>\n      <th>Zielgewinnspanne</th>\n    </tr>\n  </thead>\n  <tbody>\n    <tr>\n      <th>0</th>\n      <td>2021-02-01</td>\n      <td>7</td>\n      <td>697</td>\n      <td>11152</td>\n      <td>1394</td>\n      <td>6273</td>\n      <td>Solar-Powered Rain Cloud</td>\n      <td>0.88</td>\n    </tr>\n    <tr>\n      <th>1</th>\n      <td>2021-05-03</td>\n      <td>8</td>\n      <td>62</td>\n      <td>1116</td>\n      <td>744</td>\n      <td>682</td>\n      <td>Quantum Potato Computer</td>\n      <td>0.91</td>\n    </tr>\n    <tr>\n      <th>2</th>\n      <td>2020-08-22</td>\n      <td>3</td>\n      <td>169</td>\n      <td>2535</td>\n      <td>169</td>\n      <td>1521</td>\n      <td>Virtual Reality Nose Hair Trimmer</td>\n      <td>0.51</td>\n    </tr>\n    <tr>\n      <th>3</th>\n      <td>2022-07-27</td>\n      <td>4</td>\n      <td>465</td>\n      <td>8370</td>\n      <td>465</td>\n      <td>3720</td>\n      <td>Robotic Pizza Butler</td>\n      <td>0.46</td>\n    </tr>\n    <tr>\n      <th>4</th>\n      <td>2022-08-02</td>\n      <td>10</td>\n      <td>79</td>\n      <td>1185</td>\n      <td>1343</td>\n      <td>790</td>\n      <td>CheeseStation</td>\n      <td>0.97</td>\n    </tr>\n    <tr>\n      <th>...</th>\n      <td>...</td>\n      <td>...</td>\n      <td>...</td>\n      <td>...</td>\n      <td>...</td>\n      <td>...</td>\n      <td>...</td>\n      <td>...</td>\n    </tr>\n    <tr>\n      <th>1437</th>\n      <td>2021-08-08</td>\n      <td>5</td>\n      <td>706</td>\n      <td>7060</td>\n      <td>1412</td>\n      <td>2824</td>\n      <td>Selfie Toaster</td>\n      <td>0.41</td>\n    </tr>\n    <tr>\n      <th>1438</th>\n      <td>2022-08-14</td>\n      <td>7</td>\n      <td>163</td>\n      <td>2934</td>\n      <td>163</td>\n      <td>1304</td>\n      <td>Solar-Powered Rain Cloud</td>\n      <td>0.88</td>\n    </tr>\n    <tr>\n      <th>1439</th>\n      <td>2022-10-03</td>\n      <td>6</td>\n      <td>636</td>\n      <td>10812</td>\n      <td>636</td>\n      <td>4452</td>\n      <td>Electric Toothbrush Karaoke Machine</td>\n      <td>0.07</td>\n    </tr>\n    <tr>\n      <th>1440</th>\n      <td>2022-11-11</td>\n      <td>5</td>\n      <td>625</td>\n      <td>8125</td>\n      <td>1250</td>\n      <td>3750</td>\n      <td>Selfie Toaster</td>\n      <td>0.41</td>\n    </tr>\n    <tr>\n      <th>1441</th>\n      <td>2022-09-30</td>\n      <td>8</td>\n      <td>45</td>\n      <td>675</td>\n      <td>1035</td>\n      <td>495</td>\n      <td>Quantum Potato Computer</td>\n      <td>0.91</td>\n    </tr>\n  </tbody>\n</table>\n<p>1442 rows × 8 columns</p>\n</div>"
     },
     "execution_count": 13,
     "metadata": {},
     "output_type": "execute_result"
    }
   ],
   "source": [
    "fabrik_2_merged"
   ],
   "metadata": {
    "collapsed": false,
    "ExecuteTime": {
     "end_time": "2023-08-29T14:01:18.244454200Z",
     "start_time": "2023-08-29T14:01:18.215508800Z"
    }
   },
   "id": "1aa6d098304efaa2"
  },
  {
   "cell_type": "code",
   "execution_count": 14,
   "outputs": [
    {
     "data": {
      "text/plain": "     Produktionsdatum  Produkttyp  Produzierte Einheiten  Arbeitskosten  \\\n0          2021-09-18          10                     27            675   \n1          2020-05-01           3                    649          14927   \n2          2021-11-15           1                    230           5290   \n3          2021-08-04           7                    882          17640   \n4          2021-01-08           6                    205           3485   \n...               ...         ...                    ...            ...   \n2529       2021-08-08           5                    706           7060   \n2530       2022-08-14           7                    163           2934   \n2531       2022-10-03           6                    636          10812   \n2532       2022-11-11           5                    625           8125   \n2533       2022-09-30           8                     45            675   \n\n      Materialkosten  Overhead                      Produkttyp Name  \\\n0                297     378.0                        CheeseStation   \n1                649    2596.0    Virtual Reality Nose Hair Trimmer   \n2                230    1150.0          Wi-Fi Smelly Socks Detector   \n3                882    6174.0             Solar-Powered Rain Cloud   \n4                410    1025.0  Electric Toothbrush Karaoke Machine   \n...              ...       ...                                  ...   \n2529            1412       NaN                       Selfie Toaster   \n2530             163       NaN             Solar-Powered Rain Cloud   \n2531             636       NaN  Electric Toothbrush Karaoke Machine   \n2532            1250       NaN                       Selfie Toaster   \n2533            1035       NaN              Quantum Potato Computer   \n\n      Zielgewinnspanne  Energiekosten  \n0                 0.97            NaN  \n1                 0.51            NaN  \n2                 0.69            NaN  \n3                 0.88            NaN  \n4                 0.07            NaN  \n...                ...            ...  \n2529              0.41         2824.0  \n2530              0.88         1304.0  \n2531              0.07         4452.0  \n2532              0.41         3750.0  \n2533              0.91          495.0  \n\n[2534 rows x 9 columns]",
      "text/html": "<div>\n<style scoped>\n    .dataframe tbody tr th:only-of-type {\n        vertical-align: middle;\n    }\n\n    .dataframe tbody tr th {\n        vertical-align: top;\n    }\n\n    .dataframe thead th {\n        text-align: right;\n    }\n</style>\n<table border=\"1\" class=\"dataframe\">\n  <thead>\n    <tr style=\"text-align: right;\">\n      <th></th>\n      <th>Produktionsdatum</th>\n      <th>Produkttyp</th>\n      <th>Produzierte Einheiten</th>\n      <th>Arbeitskosten</th>\n      <th>Materialkosten</th>\n      <th>Overhead</th>\n      <th>Produkttyp Name</th>\n      <th>Zielgewinnspanne</th>\n      <th>Energiekosten</th>\n    </tr>\n  </thead>\n  <tbody>\n    <tr>\n      <th>0</th>\n      <td>2021-09-18</td>\n      <td>10</td>\n      <td>27</td>\n      <td>675</td>\n      <td>297</td>\n      <td>378.0</td>\n      <td>CheeseStation</td>\n      <td>0.97</td>\n      <td>NaN</td>\n    </tr>\n    <tr>\n      <th>1</th>\n      <td>2020-05-01</td>\n      <td>3</td>\n      <td>649</td>\n      <td>14927</td>\n      <td>649</td>\n      <td>2596.0</td>\n      <td>Virtual Reality Nose Hair Trimmer</td>\n      <td>0.51</td>\n      <td>NaN</td>\n    </tr>\n    <tr>\n      <th>2</th>\n      <td>2021-11-15</td>\n      <td>1</td>\n      <td>230</td>\n      <td>5290</td>\n      <td>230</td>\n      <td>1150.0</td>\n      <td>Wi-Fi Smelly Socks Detector</td>\n      <td>0.69</td>\n      <td>NaN</td>\n    </tr>\n    <tr>\n      <th>3</th>\n      <td>2021-08-04</td>\n      <td>7</td>\n      <td>882</td>\n      <td>17640</td>\n      <td>882</td>\n      <td>6174.0</td>\n      <td>Solar-Powered Rain Cloud</td>\n      <td>0.88</td>\n      <td>NaN</td>\n    </tr>\n    <tr>\n      <th>4</th>\n      <td>2021-01-08</td>\n      <td>6</td>\n      <td>205</td>\n      <td>3485</td>\n      <td>410</td>\n      <td>1025.0</td>\n      <td>Electric Toothbrush Karaoke Machine</td>\n      <td>0.07</td>\n      <td>NaN</td>\n    </tr>\n    <tr>\n      <th>...</th>\n      <td>...</td>\n      <td>...</td>\n      <td>...</td>\n      <td>...</td>\n      <td>...</td>\n      <td>...</td>\n      <td>...</td>\n      <td>...</td>\n      <td>...</td>\n    </tr>\n    <tr>\n      <th>2529</th>\n      <td>2021-08-08</td>\n      <td>5</td>\n      <td>706</td>\n      <td>7060</td>\n      <td>1412</td>\n      <td>NaN</td>\n      <td>Selfie Toaster</td>\n      <td>0.41</td>\n      <td>2824.0</td>\n    </tr>\n    <tr>\n      <th>2530</th>\n      <td>2022-08-14</td>\n      <td>7</td>\n      <td>163</td>\n      <td>2934</td>\n      <td>163</td>\n      <td>NaN</td>\n      <td>Solar-Powered Rain Cloud</td>\n      <td>0.88</td>\n      <td>1304.0</td>\n    </tr>\n    <tr>\n      <th>2531</th>\n      <td>2022-10-03</td>\n      <td>6</td>\n      <td>636</td>\n      <td>10812</td>\n      <td>636</td>\n      <td>NaN</td>\n      <td>Electric Toothbrush Karaoke Machine</td>\n      <td>0.07</td>\n      <td>4452.0</td>\n    </tr>\n    <tr>\n      <th>2532</th>\n      <td>2022-11-11</td>\n      <td>5</td>\n      <td>625</td>\n      <td>8125</td>\n      <td>1250</td>\n      <td>NaN</td>\n      <td>Selfie Toaster</td>\n      <td>0.41</td>\n      <td>3750.0</td>\n    </tr>\n    <tr>\n      <th>2533</th>\n      <td>2022-09-30</td>\n      <td>8</td>\n      <td>45</td>\n      <td>675</td>\n      <td>1035</td>\n      <td>NaN</td>\n      <td>Quantum Potato Computer</td>\n      <td>0.91</td>\n      <td>495.0</td>\n    </tr>\n  </tbody>\n</table>\n<p>2534 rows × 9 columns</p>\n</div>"
     },
     "execution_count": 14,
     "metadata": {},
     "output_type": "execute_result"
    }
   ],
   "source": [
    "# Combine the merged data frames from both factories\n",
    "\n",
    "combined_data = pd.concat([fabrik_1_merged, fabrik_2_merged], ignore_index=True)\n",
    "combined_data"
   ],
   "metadata": {
    "collapsed": false,
    "ExecuteTime": {
     "end_time": "2023-08-29T14:01:21.980566500Z",
     "start_time": "2023-08-29T14:01:21.934560200Z"
    }
   },
   "id": "94d59e035b0495d8"
  },
  {
   "cell_type": "code",
   "execution_count": 15,
   "outputs": [
    {
     "data": {
      "text/plain": "     Produktionsdatum  Produkttyp  Produzierte Einheiten  Arbeitskosten  \\\n0          2021-09-18          10                     27            675   \n1          2020-05-01           3                    649          14927   \n2          2021-11-15           1                    230           5290   \n3          2021-08-04           7                    882          17640   \n4          2021-01-08           6                    205           3485   \n...               ...         ...                    ...            ...   \n2529       2021-08-08           5                    706           7060   \n2530       2022-08-14           7                    163           2934   \n2531       2022-10-03           6                    636          10812   \n2532       2022-11-11           5                    625           8125   \n2533       2022-09-30           8                     45            675   \n\n      Materialkosten  Overhead                      Produkttyp Name  \\\n0                297     378.0                        CheeseStation   \n1                649    2596.0    Virtual Reality Nose Hair Trimmer   \n2                230    1150.0          Wi-Fi Smelly Socks Detector   \n3                882    6174.0             Solar-Powered Rain Cloud   \n4                410    1025.0  Electric Toothbrush Karaoke Machine   \n...              ...       ...                                  ...   \n2529            1412       NaN                       Selfie Toaster   \n2530             163       NaN             Solar-Powered Rain Cloud   \n2531             636       NaN  Electric Toothbrush Karaoke Machine   \n2532            1250       NaN                       Selfie Toaster   \n2533            1035       NaN              Quantum Potato Computer   \n\n      Zielgewinnspanne  Energiekosten  Month  Year  \n0                 0.97            NaN      9  2021  \n1                 0.51            NaN      5  2020  \n2                 0.69            NaN     11  2021  \n3                 0.88            NaN      8  2021  \n4                 0.07            NaN      1  2021  \n...                ...            ...    ...   ...  \n2529              0.41         2824.0      8  2021  \n2530              0.88         1304.0      8  2022  \n2531              0.07         4452.0     10  2022  \n2532              0.41         3750.0     11  2022  \n2533              0.91          495.0      9  2022  \n\n[2534 rows x 11 columns]",
      "text/html": "<div>\n<style scoped>\n    .dataframe tbody tr th:only-of-type {\n        vertical-align: middle;\n    }\n\n    .dataframe tbody tr th {\n        vertical-align: top;\n    }\n\n    .dataframe thead th {\n        text-align: right;\n    }\n</style>\n<table border=\"1\" class=\"dataframe\">\n  <thead>\n    <tr style=\"text-align: right;\">\n      <th></th>\n      <th>Produktionsdatum</th>\n      <th>Produkttyp</th>\n      <th>Produzierte Einheiten</th>\n      <th>Arbeitskosten</th>\n      <th>Materialkosten</th>\n      <th>Overhead</th>\n      <th>Produkttyp Name</th>\n      <th>Zielgewinnspanne</th>\n      <th>Energiekosten</th>\n      <th>Month</th>\n      <th>Year</th>\n    </tr>\n  </thead>\n  <tbody>\n    <tr>\n      <th>0</th>\n      <td>2021-09-18</td>\n      <td>10</td>\n      <td>27</td>\n      <td>675</td>\n      <td>297</td>\n      <td>378.0</td>\n      <td>CheeseStation</td>\n      <td>0.97</td>\n      <td>NaN</td>\n      <td>9</td>\n      <td>2021</td>\n    </tr>\n    <tr>\n      <th>1</th>\n      <td>2020-05-01</td>\n      <td>3</td>\n      <td>649</td>\n      <td>14927</td>\n      <td>649</td>\n      <td>2596.0</td>\n      <td>Virtual Reality Nose Hair Trimmer</td>\n      <td>0.51</td>\n      <td>NaN</td>\n      <td>5</td>\n      <td>2020</td>\n    </tr>\n    <tr>\n      <th>2</th>\n      <td>2021-11-15</td>\n      <td>1</td>\n      <td>230</td>\n      <td>5290</td>\n      <td>230</td>\n      <td>1150.0</td>\n      <td>Wi-Fi Smelly Socks Detector</td>\n      <td>0.69</td>\n      <td>NaN</td>\n      <td>11</td>\n      <td>2021</td>\n    </tr>\n    <tr>\n      <th>3</th>\n      <td>2021-08-04</td>\n      <td>7</td>\n      <td>882</td>\n      <td>17640</td>\n      <td>882</td>\n      <td>6174.0</td>\n      <td>Solar-Powered Rain Cloud</td>\n      <td>0.88</td>\n      <td>NaN</td>\n      <td>8</td>\n      <td>2021</td>\n    </tr>\n    <tr>\n      <th>4</th>\n      <td>2021-01-08</td>\n      <td>6</td>\n      <td>205</td>\n      <td>3485</td>\n      <td>410</td>\n      <td>1025.0</td>\n      <td>Electric Toothbrush Karaoke Machine</td>\n      <td>0.07</td>\n      <td>NaN</td>\n      <td>1</td>\n      <td>2021</td>\n    </tr>\n    <tr>\n      <th>...</th>\n      <td>...</td>\n      <td>...</td>\n      <td>...</td>\n      <td>...</td>\n      <td>...</td>\n      <td>...</td>\n      <td>...</td>\n      <td>...</td>\n      <td>...</td>\n      <td>...</td>\n      <td>...</td>\n    </tr>\n    <tr>\n      <th>2529</th>\n      <td>2021-08-08</td>\n      <td>5</td>\n      <td>706</td>\n      <td>7060</td>\n      <td>1412</td>\n      <td>NaN</td>\n      <td>Selfie Toaster</td>\n      <td>0.41</td>\n      <td>2824.0</td>\n      <td>8</td>\n      <td>2021</td>\n    </tr>\n    <tr>\n      <th>2530</th>\n      <td>2022-08-14</td>\n      <td>7</td>\n      <td>163</td>\n      <td>2934</td>\n      <td>163</td>\n      <td>NaN</td>\n      <td>Solar-Powered Rain Cloud</td>\n      <td>0.88</td>\n      <td>1304.0</td>\n      <td>8</td>\n      <td>2022</td>\n    </tr>\n    <tr>\n      <th>2531</th>\n      <td>2022-10-03</td>\n      <td>6</td>\n      <td>636</td>\n      <td>10812</td>\n      <td>636</td>\n      <td>NaN</td>\n      <td>Electric Toothbrush Karaoke Machine</td>\n      <td>0.07</td>\n      <td>4452.0</td>\n      <td>10</td>\n      <td>2022</td>\n    </tr>\n    <tr>\n      <th>2532</th>\n      <td>2022-11-11</td>\n      <td>5</td>\n      <td>625</td>\n      <td>8125</td>\n      <td>1250</td>\n      <td>NaN</td>\n      <td>Selfie Toaster</td>\n      <td>0.41</td>\n      <td>3750.0</td>\n      <td>11</td>\n      <td>2022</td>\n    </tr>\n    <tr>\n      <th>2533</th>\n      <td>2022-09-30</td>\n      <td>8</td>\n      <td>45</td>\n      <td>675</td>\n      <td>1035</td>\n      <td>NaN</td>\n      <td>Quantum Potato Computer</td>\n      <td>0.91</td>\n      <td>495.0</td>\n      <td>9</td>\n      <td>2022</td>\n    </tr>\n  </tbody>\n</table>\n<p>2534 rows × 11 columns</p>\n</div>"
     },
     "execution_count": 15,
     "metadata": {},
     "output_type": "execute_result"
    }
   ],
   "source": [
    "# Extract Month and Year from Datum\n",
    "\n",
    "combined_data['Month'] = combined_data['Produktionsdatum'].dt.month\n",
    "combined_data['Year'] = combined_data['Produktionsdatum'].dt.year\n",
    "combined_data"
   ],
   "metadata": {
    "collapsed": false,
    "ExecuteTime": {
     "end_time": "2023-08-29T14:01:33.709519500Z",
     "start_time": "2023-08-29T14:01:33.666628400Z"
    }
   },
   "id": "e69aa384e5f9589f"
  },
  {
   "cell_type": "code",
   "execution_count": 16,
   "outputs": [
    {
     "data": {
      "text/plain": "     Produkttyp  Year  Month              Produkttyp Name  \\\n0             1  2020      1  Wi-Fi Smelly Socks Detector   \n1             1  2020      2  Wi-Fi Smelly Socks Detector   \n2             1  2020      3  Wi-Fi Smelly Socks Detector   \n3             1  2020      4  Wi-Fi Smelly Socks Detector   \n4             1  2020      5  Wi-Fi Smelly Socks Detector   \n..          ...   ...    ...                          ...   \n355          10  2022      8                CheeseStation   \n356          10  2022      9                CheeseStation   \n357          10  2022     10                CheeseStation   \n358          10  2022     11                CheeseStation   \n359          10  2022     12                CheeseStation   \n\n     Produzierte Einheiten  Arbeitskosten  Materialkosten  Overhead  \\\n0                     3234          53859            4745    6421.0   \n1                     2360          40100            3689    3954.0   \n2                     7168         129729            8898   25794.0   \n3                     5420         108424            6906   18838.0   \n4                     2019          27118            2641     424.0   \n..                     ...            ...             ...       ...   \n355                    327           5916            4913     689.0   \n356                    154           3432            2508    1001.0   \n357                    251           6906            3455    2722.0   \n358                    376          10086            5551    2413.0   \n359                    328           7281            4978    1504.0   \n\n     Energiekosten  Zielgewinnspanne  \n0          12913.0              0.69  \n1          10156.0              0.69  \n2          10738.0              0.69  \n3           7840.0              0.69  \n4          16035.0              0.69  \n..             ...               ...  \n355         2939.0              0.97  \n356          979.0              0.97  \n357            0.0              0.97  \n358         2451.0              0.97  \n359         2656.0              0.97  \n\n[360 rows x 10 columns]",
      "text/html": "<div>\n<style scoped>\n    .dataframe tbody tr th:only-of-type {\n        vertical-align: middle;\n    }\n\n    .dataframe tbody tr th {\n        vertical-align: top;\n    }\n\n    .dataframe thead th {\n        text-align: right;\n    }\n</style>\n<table border=\"1\" class=\"dataframe\">\n  <thead>\n    <tr style=\"text-align: right;\">\n      <th></th>\n      <th>Produkttyp</th>\n      <th>Year</th>\n      <th>Month</th>\n      <th>Produkttyp Name</th>\n      <th>Produzierte Einheiten</th>\n      <th>Arbeitskosten</th>\n      <th>Materialkosten</th>\n      <th>Overhead</th>\n      <th>Energiekosten</th>\n      <th>Zielgewinnspanne</th>\n    </tr>\n  </thead>\n  <tbody>\n    <tr>\n      <th>0</th>\n      <td>1</td>\n      <td>2020</td>\n      <td>1</td>\n      <td>Wi-Fi Smelly Socks Detector</td>\n      <td>3234</td>\n      <td>53859</td>\n      <td>4745</td>\n      <td>6421.0</td>\n      <td>12913.0</td>\n      <td>0.69</td>\n    </tr>\n    <tr>\n      <th>1</th>\n      <td>1</td>\n      <td>2020</td>\n      <td>2</td>\n      <td>Wi-Fi Smelly Socks Detector</td>\n      <td>2360</td>\n      <td>40100</td>\n      <td>3689</td>\n      <td>3954.0</td>\n      <td>10156.0</td>\n      <td>0.69</td>\n    </tr>\n    <tr>\n      <th>2</th>\n      <td>1</td>\n      <td>2020</td>\n      <td>3</td>\n      <td>Wi-Fi Smelly Socks Detector</td>\n      <td>7168</td>\n      <td>129729</td>\n      <td>8898</td>\n      <td>25794.0</td>\n      <td>10738.0</td>\n      <td>0.69</td>\n    </tr>\n    <tr>\n      <th>3</th>\n      <td>1</td>\n      <td>2020</td>\n      <td>4</td>\n      <td>Wi-Fi Smelly Socks Detector</td>\n      <td>5420</td>\n      <td>108424</td>\n      <td>6906</td>\n      <td>18838.0</td>\n      <td>7840.0</td>\n      <td>0.69</td>\n    </tr>\n    <tr>\n      <th>4</th>\n      <td>1</td>\n      <td>2020</td>\n      <td>5</td>\n      <td>Wi-Fi Smelly Socks Detector</td>\n      <td>2019</td>\n      <td>27118</td>\n      <td>2641</td>\n      <td>424.0</td>\n      <td>16035.0</td>\n      <td>0.69</td>\n    </tr>\n    <tr>\n      <th>...</th>\n      <td>...</td>\n      <td>...</td>\n      <td>...</td>\n      <td>...</td>\n      <td>...</td>\n      <td>...</td>\n      <td>...</td>\n      <td>...</td>\n      <td>...</td>\n      <td>...</td>\n    </tr>\n    <tr>\n      <th>355</th>\n      <td>10</td>\n      <td>2022</td>\n      <td>8</td>\n      <td>CheeseStation</td>\n      <td>327</td>\n      <td>5916</td>\n      <td>4913</td>\n      <td>689.0</td>\n      <td>2939.0</td>\n      <td>0.97</td>\n    </tr>\n    <tr>\n      <th>356</th>\n      <td>10</td>\n      <td>2022</td>\n      <td>9</td>\n      <td>CheeseStation</td>\n      <td>154</td>\n      <td>3432</td>\n      <td>2508</td>\n      <td>1001.0</td>\n      <td>979.0</td>\n      <td>0.97</td>\n    </tr>\n    <tr>\n      <th>357</th>\n      <td>10</td>\n      <td>2022</td>\n      <td>10</td>\n      <td>CheeseStation</td>\n      <td>251</td>\n      <td>6906</td>\n      <td>3455</td>\n      <td>2722.0</td>\n      <td>0.0</td>\n      <td>0.97</td>\n    </tr>\n    <tr>\n      <th>358</th>\n      <td>10</td>\n      <td>2022</td>\n      <td>11</td>\n      <td>CheeseStation</td>\n      <td>376</td>\n      <td>10086</td>\n      <td>5551</td>\n      <td>2413.0</td>\n      <td>2451.0</td>\n      <td>0.97</td>\n    </tr>\n    <tr>\n      <th>359</th>\n      <td>10</td>\n      <td>2022</td>\n      <td>12</td>\n      <td>CheeseStation</td>\n      <td>328</td>\n      <td>7281</td>\n      <td>4978</td>\n      <td>1504.0</td>\n      <td>2656.0</td>\n      <td>0.97</td>\n    </tr>\n  </tbody>\n</table>\n<p>360 rows × 10 columns</p>\n</div>"
     },
     "execution_count": 16,
     "metadata": {},
     "output_type": "execute_result"
    }
   ],
   "source": [
    "# Summarize the data by product type, year, and month\n",
    "\n",
    "summarized_data = combined_data.groupby(['Produkttyp', 'Year', 'Month']).agg({\n",
    "    'Produkttyp Name': 'first',\n",
    "    'Produzierte Einheiten': 'sum',\n",
    "    'Arbeitskosten': 'sum',\n",
    "    'Materialkosten': 'sum',\n",
    "    'Overhead': 'sum',\n",
    "    'Energiekosten': 'sum', \n",
    "    'Zielgewinnspanne': 'first',\n",
    "      \n",
    "}).reset_index()\n",
    "\n",
    "summarized_data\n"
   ],
   "metadata": {
    "collapsed": false,
    "ExecuteTime": {
     "end_time": "2023-08-29T14:01:43.506043400Z",
     "start_time": "2023-08-29T14:01:43.463168800Z"
    }
   },
   "id": "ccab3aec6b207ee8"
  },
  {
   "cell_type": "code",
   "execution_count": 17,
   "outputs": [
    {
     "data": {
      "text/plain": "     Produkttyp  Year  Month            Produkttyp Name_x  \\\n0             1  2020      1  Wi-Fi Smelly Socks Detector   \n1             1  2020      2  Wi-Fi Smelly Socks Detector   \n2             1  2020      3  Wi-Fi Smelly Socks Detector   \n3             1  2020      4  Wi-Fi Smelly Socks Detector   \n4             1  2020      5  Wi-Fi Smelly Socks Detector   \n..          ...   ...    ...                          ...   \n355          10  2022      8                CheeseStation   \n356          10  2022      9                CheeseStation   \n357          10  2022     10                CheeseStation   \n358          10  2022     11                CheeseStation   \n359          10  2022     12                CheeseStation   \n\n     Produzierte Einheiten  Arbeitskosten  Materialkosten  Overhead  \\\n0                     3234          53859            4745    6421.0   \n1                     2360          40100            3689    3954.0   \n2                     7168         129729            8898   25794.0   \n3                     5420         108424            6906   18838.0   \n4                     2019          27118            2641     424.0   \n..                     ...            ...             ...       ...   \n355                    327           5916            4913     689.0   \n356                    154           3432            2508    1001.0   \n357                    251           6906            3455    2722.0   \n358                    376          10086            5551    2413.0   \n359                    328           7281            4978    1504.0   \n\n     Energiekosten  Zielgewinnspanne_x            Produkttyp Name_y  \\\n0          12913.0                0.69  Wi-Fi Smelly Socks Detector   \n1          10156.0                0.69  Wi-Fi Smelly Socks Detector   \n2          10738.0                0.69  Wi-Fi Smelly Socks Detector   \n3           7840.0                0.69  Wi-Fi Smelly Socks Detector   \n4          16035.0                0.69  Wi-Fi Smelly Socks Detector   \n..             ...                 ...                          ...   \n355         2939.0                0.97                CheeseStation   \n356          979.0                0.97                CheeseStation   \n357            0.0                0.97                CheeseStation   \n358         2451.0                0.97                CheeseStation   \n359         2656.0                0.97                CheeseStation   \n\n     Zielgewinnspanne_y  \n0                  0.69  \n1                  0.69  \n2                  0.69  \n3                  0.69  \n4                  0.69  \n..                  ...  \n355                0.97  \n356                0.97  \n357                0.97  \n358                0.97  \n359                0.97  \n\n[360 rows x 12 columns]",
      "text/html": "<div>\n<style scoped>\n    .dataframe tbody tr th:only-of-type {\n        vertical-align: middle;\n    }\n\n    .dataframe tbody tr th {\n        vertical-align: top;\n    }\n\n    .dataframe thead th {\n        text-align: right;\n    }\n</style>\n<table border=\"1\" class=\"dataframe\">\n  <thead>\n    <tr style=\"text-align: right;\">\n      <th></th>\n      <th>Produkttyp</th>\n      <th>Year</th>\n      <th>Month</th>\n      <th>Produkttyp Name_x</th>\n      <th>Produzierte Einheiten</th>\n      <th>Arbeitskosten</th>\n      <th>Materialkosten</th>\n      <th>Overhead</th>\n      <th>Energiekosten</th>\n      <th>Zielgewinnspanne_x</th>\n      <th>Produkttyp Name_y</th>\n      <th>Zielgewinnspanne_y</th>\n    </tr>\n  </thead>\n  <tbody>\n    <tr>\n      <th>0</th>\n      <td>1</td>\n      <td>2020</td>\n      <td>1</td>\n      <td>Wi-Fi Smelly Socks Detector</td>\n      <td>3234</td>\n      <td>53859</td>\n      <td>4745</td>\n      <td>6421.0</td>\n      <td>12913.0</td>\n      <td>0.69</td>\n      <td>Wi-Fi Smelly Socks Detector</td>\n      <td>0.69</td>\n    </tr>\n    <tr>\n      <th>1</th>\n      <td>1</td>\n      <td>2020</td>\n      <td>2</td>\n      <td>Wi-Fi Smelly Socks Detector</td>\n      <td>2360</td>\n      <td>40100</td>\n      <td>3689</td>\n      <td>3954.0</td>\n      <td>10156.0</td>\n      <td>0.69</td>\n      <td>Wi-Fi Smelly Socks Detector</td>\n      <td>0.69</td>\n    </tr>\n    <tr>\n      <th>2</th>\n      <td>1</td>\n      <td>2020</td>\n      <td>3</td>\n      <td>Wi-Fi Smelly Socks Detector</td>\n      <td>7168</td>\n      <td>129729</td>\n      <td>8898</td>\n      <td>25794.0</td>\n      <td>10738.0</td>\n      <td>0.69</td>\n      <td>Wi-Fi Smelly Socks Detector</td>\n      <td>0.69</td>\n    </tr>\n    <tr>\n      <th>3</th>\n      <td>1</td>\n      <td>2020</td>\n      <td>4</td>\n      <td>Wi-Fi Smelly Socks Detector</td>\n      <td>5420</td>\n      <td>108424</td>\n      <td>6906</td>\n      <td>18838.0</td>\n      <td>7840.0</td>\n      <td>0.69</td>\n      <td>Wi-Fi Smelly Socks Detector</td>\n      <td>0.69</td>\n    </tr>\n    <tr>\n      <th>4</th>\n      <td>1</td>\n      <td>2020</td>\n      <td>5</td>\n      <td>Wi-Fi Smelly Socks Detector</td>\n      <td>2019</td>\n      <td>27118</td>\n      <td>2641</td>\n      <td>424.0</td>\n      <td>16035.0</td>\n      <td>0.69</td>\n      <td>Wi-Fi Smelly Socks Detector</td>\n      <td>0.69</td>\n    </tr>\n    <tr>\n      <th>...</th>\n      <td>...</td>\n      <td>...</td>\n      <td>...</td>\n      <td>...</td>\n      <td>...</td>\n      <td>...</td>\n      <td>...</td>\n      <td>...</td>\n      <td>...</td>\n      <td>...</td>\n      <td>...</td>\n      <td>...</td>\n    </tr>\n    <tr>\n      <th>355</th>\n      <td>10</td>\n      <td>2022</td>\n      <td>8</td>\n      <td>CheeseStation</td>\n      <td>327</td>\n      <td>5916</td>\n      <td>4913</td>\n      <td>689.0</td>\n      <td>2939.0</td>\n      <td>0.97</td>\n      <td>CheeseStation</td>\n      <td>0.97</td>\n    </tr>\n    <tr>\n      <th>356</th>\n      <td>10</td>\n      <td>2022</td>\n      <td>9</td>\n      <td>CheeseStation</td>\n      <td>154</td>\n      <td>3432</td>\n      <td>2508</td>\n      <td>1001.0</td>\n      <td>979.0</td>\n      <td>0.97</td>\n      <td>CheeseStation</td>\n      <td>0.97</td>\n    </tr>\n    <tr>\n      <th>357</th>\n      <td>10</td>\n      <td>2022</td>\n      <td>10</td>\n      <td>CheeseStation</td>\n      <td>251</td>\n      <td>6906</td>\n      <td>3455</td>\n      <td>2722.0</td>\n      <td>0.0</td>\n      <td>0.97</td>\n      <td>CheeseStation</td>\n      <td>0.97</td>\n    </tr>\n    <tr>\n      <th>358</th>\n      <td>10</td>\n      <td>2022</td>\n      <td>11</td>\n      <td>CheeseStation</td>\n      <td>376</td>\n      <td>10086</td>\n      <td>5551</td>\n      <td>2413.0</td>\n      <td>2451.0</td>\n      <td>0.97</td>\n      <td>CheeseStation</td>\n      <td>0.97</td>\n    </tr>\n    <tr>\n      <th>359</th>\n      <td>10</td>\n      <td>2022</td>\n      <td>12</td>\n      <td>CheeseStation</td>\n      <td>328</td>\n      <td>7281</td>\n      <td>4978</td>\n      <td>1504.0</td>\n      <td>2656.0</td>\n      <td>0.97</td>\n      <td>CheeseStation</td>\n      <td>0.97</td>\n    </tr>\n  </tbody>\n</table>\n<p>360 rows × 12 columns</p>\n</div>"
     },
     "execution_count": 17,
     "metadata": {},
     "output_type": "execute_result"
    }
   ],
   "source": [
    "# Merge with products_infos:\n",
    "df = pd.merge(summarized_data, products_infos, on='Produkttyp', how='left')\n",
    "df\n"
   ],
   "metadata": {
    "collapsed": false,
    "ExecuteTime": {
     "end_time": "2023-08-29T14:01:58.936633700Z",
     "start_time": "2023-08-29T14:01:58.876793300Z"
    }
   },
   "id": "6d0f780781c7c71a"
  },
  {
   "cell_type": "code",
   "execution_count": 18,
   "outputs": [
    {
     "data": {
      "text/plain": "     Produkttyp  Year  Month            Produkttyp Name_x  \\\n0             1  2020      1  Wi-Fi Smelly Socks Detector   \n1             1  2020      2  Wi-Fi Smelly Socks Detector   \n2             1  2020      3  Wi-Fi Smelly Socks Detector   \n3             1  2020      4  Wi-Fi Smelly Socks Detector   \n4             1  2020      5  Wi-Fi Smelly Socks Detector   \n..          ...   ...    ...                          ...   \n355          10  2022      8                CheeseStation   \n356          10  2022      9                CheeseStation   \n357          10  2022     10                CheeseStation   \n358          10  2022     11                CheeseStation   \n359          10  2022     12                CheeseStation   \n\n     Produzierte Einheiten  Arbeitskosten  Materialkosten  Overhead  \\\n0                     3234          53859            4745    6421.0   \n1                     2360          40100            3689    3954.0   \n2                     7168         129729            8898   25794.0   \n3                     5420         108424            6906   18838.0   \n4                     2019          27118            2641     424.0   \n..                     ...            ...             ...       ...   \n355                    327           5916            4913     689.0   \n356                    154           3432            2508    1001.0   \n357                    251           6906            3455    2722.0   \n358                    376          10086            5551    2413.0   \n359                    328           7281            4978    1504.0   \n\n     Energiekosten  Zielgewinnspanne_x  \n0          12913.0                0.69  \n1          10156.0                0.69  \n2          10738.0                0.69  \n3           7840.0                0.69  \n4          16035.0                0.69  \n..             ...                 ...  \n355         2939.0                0.97  \n356          979.0                0.97  \n357            0.0                0.97  \n358         2451.0                0.97  \n359         2656.0                0.97  \n\n[360 rows x 10 columns]",
      "text/html": "<div>\n<style scoped>\n    .dataframe tbody tr th:only-of-type {\n        vertical-align: middle;\n    }\n\n    .dataframe tbody tr th {\n        vertical-align: top;\n    }\n\n    .dataframe thead th {\n        text-align: right;\n    }\n</style>\n<table border=\"1\" class=\"dataframe\">\n  <thead>\n    <tr style=\"text-align: right;\">\n      <th></th>\n      <th>Produkttyp</th>\n      <th>Year</th>\n      <th>Month</th>\n      <th>Produkttyp Name_x</th>\n      <th>Produzierte Einheiten</th>\n      <th>Arbeitskosten</th>\n      <th>Materialkosten</th>\n      <th>Overhead</th>\n      <th>Energiekosten</th>\n      <th>Zielgewinnspanne_x</th>\n    </tr>\n  </thead>\n  <tbody>\n    <tr>\n      <th>0</th>\n      <td>1</td>\n      <td>2020</td>\n      <td>1</td>\n      <td>Wi-Fi Smelly Socks Detector</td>\n      <td>3234</td>\n      <td>53859</td>\n      <td>4745</td>\n      <td>6421.0</td>\n      <td>12913.0</td>\n      <td>0.69</td>\n    </tr>\n    <tr>\n      <th>1</th>\n      <td>1</td>\n      <td>2020</td>\n      <td>2</td>\n      <td>Wi-Fi Smelly Socks Detector</td>\n      <td>2360</td>\n      <td>40100</td>\n      <td>3689</td>\n      <td>3954.0</td>\n      <td>10156.0</td>\n      <td>0.69</td>\n    </tr>\n    <tr>\n      <th>2</th>\n      <td>1</td>\n      <td>2020</td>\n      <td>3</td>\n      <td>Wi-Fi Smelly Socks Detector</td>\n      <td>7168</td>\n      <td>129729</td>\n      <td>8898</td>\n      <td>25794.0</td>\n      <td>10738.0</td>\n      <td>0.69</td>\n    </tr>\n    <tr>\n      <th>3</th>\n      <td>1</td>\n      <td>2020</td>\n      <td>4</td>\n      <td>Wi-Fi Smelly Socks Detector</td>\n      <td>5420</td>\n      <td>108424</td>\n      <td>6906</td>\n      <td>18838.0</td>\n      <td>7840.0</td>\n      <td>0.69</td>\n    </tr>\n    <tr>\n      <th>4</th>\n      <td>1</td>\n      <td>2020</td>\n      <td>5</td>\n      <td>Wi-Fi Smelly Socks Detector</td>\n      <td>2019</td>\n      <td>27118</td>\n      <td>2641</td>\n      <td>424.0</td>\n      <td>16035.0</td>\n      <td>0.69</td>\n    </tr>\n    <tr>\n      <th>...</th>\n      <td>...</td>\n      <td>...</td>\n      <td>...</td>\n      <td>...</td>\n      <td>...</td>\n      <td>...</td>\n      <td>...</td>\n      <td>...</td>\n      <td>...</td>\n      <td>...</td>\n    </tr>\n    <tr>\n      <th>355</th>\n      <td>10</td>\n      <td>2022</td>\n      <td>8</td>\n      <td>CheeseStation</td>\n      <td>327</td>\n      <td>5916</td>\n      <td>4913</td>\n      <td>689.0</td>\n      <td>2939.0</td>\n      <td>0.97</td>\n    </tr>\n    <tr>\n      <th>356</th>\n      <td>10</td>\n      <td>2022</td>\n      <td>9</td>\n      <td>CheeseStation</td>\n      <td>154</td>\n      <td>3432</td>\n      <td>2508</td>\n      <td>1001.0</td>\n      <td>979.0</td>\n      <td>0.97</td>\n    </tr>\n    <tr>\n      <th>357</th>\n      <td>10</td>\n      <td>2022</td>\n      <td>10</td>\n      <td>CheeseStation</td>\n      <td>251</td>\n      <td>6906</td>\n      <td>3455</td>\n      <td>2722.0</td>\n      <td>0.0</td>\n      <td>0.97</td>\n    </tr>\n    <tr>\n      <th>358</th>\n      <td>10</td>\n      <td>2022</td>\n      <td>11</td>\n      <td>CheeseStation</td>\n      <td>376</td>\n      <td>10086</td>\n      <td>5551</td>\n      <td>2413.0</td>\n      <td>2451.0</td>\n      <td>0.97</td>\n    </tr>\n    <tr>\n      <th>359</th>\n      <td>10</td>\n      <td>2022</td>\n      <td>12</td>\n      <td>CheeseStation</td>\n      <td>328</td>\n      <td>7281</td>\n      <td>4978</td>\n      <td>1504.0</td>\n      <td>2656.0</td>\n      <td>0.97</td>\n    </tr>\n  </tbody>\n</table>\n<p>360 rows × 10 columns</p>\n</div>"
     },
     "execution_count": 18,
     "metadata": {},
     "output_type": "execute_result"
    }
   ],
   "source": [
    "# Drop the duplicated columns \n",
    "df.drop(columns=['Produkttyp Name_y', 'Zielgewinnspanne_y'], inplace=True)\n",
    "df"
   ],
   "metadata": {
    "collapsed": false,
    "ExecuteTime": {
     "end_time": "2023-08-29T14:02:09.221497800Z",
     "start_time": "2023-08-29T14:02:09.064487900Z"
    }
   },
   "id": "117706c57b07c9c6"
  },
  {
   "cell_type": "code",
   "execution_count": 19,
   "outputs": [],
   "source": [
    "# Rename columns 'Produkttyp Name_x' and 'Zielgewinnspanne_x'\n",
    "df.rename(columns={\n",
    "    'Produkttyp Name_x': 'Produkttyp Name',\n",
    "    'Zielgewinnspanne_x': 'Zielgewinnspanne'\n",
    "}, inplace=True)"
   ],
   "metadata": {
    "collapsed": false,
    "ExecuteTime": {
     "end_time": "2023-08-29T14:02:21.327134300Z",
     "start_time": "2023-08-29T14:02:21.293563600Z"
    }
   },
   "id": "bd453d2f48fd3440"
  },
  {
   "cell_type": "markdown",
   "source": [
    "## Add additional columns"
   ],
   "metadata": {
    "collapsed": false
   },
   "id": "192b60f47de674d0"
  },
  {
   "cell_type": "code",
   "execution_count": 20,
   "outputs": [],
   "source": [
    "# Calculate the total costs for each product type per month\n",
    "df['Gesamtkosten'] = df['Arbeitskosten'] + df['Materialkosten'] + df['Overhead'] + df['Energiekosten']\n",
    "\n",
    "# Calculate the average cost per unit for each product type per month\n",
    "df['Durchschnittliche Kosten pro Einheit'] = df['Gesamtkosten'] / df['Produzierte Einheiten']\n",
    "\n",
    "# Calculate the required selling price for each product type per month\n",
    "df['Erforderlicher Verkaufspreis'] = df['Durchschnittliche Kosten pro Einheit'] / (1 - df['Zielgewinnspanne'])\n",
    "\n",
    "# Calculate the gross profit margin for each product type per month\n",
    "df['Bruttogewinnspanne'] = ((df['Erforderlicher Verkaufspreis'] - df['Durchschnittliche Kosten pro Einheit']) / df['Erforderlicher Verkaufspreis'])\n",
    "\n",
    "\n",
    "# Calculate the total gross profit for each product type per month\n",
    "df['Gesamtbruttogewinn'] = round(df['Bruttogewinnspanne'] * (df['Erforderlicher Verkaufspreis'] * df['Produzierte Einheiten']), 2)\n",
    "\n",
    "# Calculate the total nettogewinn for each product type per month\n",
    "df['Gesamtnettogewinn'] = df['Gesamtbruttogewinn'] - df['Gesamtkosten']"
   ],
   "metadata": {
    "collapsed": false,
    "ExecuteTime": {
     "end_time": "2023-08-29T14:02:40.817627900Z",
     "start_time": "2023-08-29T14:02:40.754393800Z"
    }
   },
   "id": "24b865acbd4230be"
  },
  {
   "cell_type": "code",
   "execution_count": 21,
   "outputs": [
    {
     "data": {
      "text/plain": "     Produkttyp  Year  Month              Produkttyp Name  \\\n0             1  2020      1  Wi-Fi Smelly Socks Detector   \n1             1  2020      2  Wi-Fi Smelly Socks Detector   \n2             1  2020      3  Wi-Fi Smelly Socks Detector   \n3             1  2020      4  Wi-Fi Smelly Socks Detector   \n4             1  2020      5  Wi-Fi Smelly Socks Detector   \n..          ...   ...    ...                          ...   \n355          10  2022      8                CheeseStation   \n356          10  2022      9                CheeseStation   \n357          10  2022     10                CheeseStation   \n358          10  2022     11                CheeseStation   \n359          10  2022     12                CheeseStation   \n\n     Produzierte Einheiten  Arbeitskosten  Materialkosten  Overhead  \\\n0                     3234          53859            4745    6421.0   \n1                     2360          40100            3689    3954.0   \n2                     7168         129729            8898   25794.0   \n3                     5420         108424            6906   18838.0   \n4                     2019          27118            2641     424.0   \n..                     ...            ...             ...       ...   \n355                    327           5916            4913     689.0   \n356                    154           3432            2508    1001.0   \n357                    251           6906            3455    2722.0   \n358                    376          10086            5551    2413.0   \n359                    328           7281            4978    1504.0   \n\n     Energiekosten  Zielgewinnspanne  Gesamtkosten  \\\n0          12913.0              0.69       77938.0   \n1          10156.0              0.69       57899.0   \n2          10738.0              0.69      175159.0   \n3           7840.0              0.69      142008.0   \n4          16035.0              0.69       46218.0   \n..             ...               ...           ...   \n355         2939.0              0.97       14457.0   \n356          979.0              0.97        7920.0   \n357            0.0              0.97       13083.0   \n358         2451.0              0.97       20501.0   \n359         2656.0              0.97       16419.0   \n\n     Durchschnittliche Kosten pro Einheit  Erforderlicher Verkaufspreis  \\\n0                               24.099567                     77.740539   \n1                               24.533475                     79.140241   \n2                               24.436244                     78.826595   \n3                               26.200738                     84.518510   \n4                               22.891530                     73.843647   \n..                                    ...                           ...   \n355                             44.211009                   1473.700306   \n356                             51.428571                   1714.285714   \n357                             52.123506                   1737.450199   \n358                             54.523936                   1817.464539   \n359                             50.057927                   1668.597561   \n\n     Bruttogewinnspanne  Gesamtbruttogewinn  Gesamtnettogewinn  \n0                  0.69           173474.90           95536.90  \n1                  0.69           128871.97           70972.97  \n2                  0.69           389870.03          214711.03  \n3                  0.69           316082.32          174074.32  \n4                  0.69           102872.32           56654.32  \n..                  ...                 ...                ...  \n355                0.97           467443.00          452986.00  \n356                0.97           256080.00          248160.00  \n357                0.97           423017.00          409934.00  \n358                0.97           662865.67          642364.67  \n359                0.97           530881.00          514462.00  \n\n[360 rows x 16 columns]",
      "text/html": "<div>\n<style scoped>\n    .dataframe tbody tr th:only-of-type {\n        vertical-align: middle;\n    }\n\n    .dataframe tbody tr th {\n        vertical-align: top;\n    }\n\n    .dataframe thead th {\n        text-align: right;\n    }\n</style>\n<table border=\"1\" class=\"dataframe\">\n  <thead>\n    <tr style=\"text-align: right;\">\n      <th></th>\n      <th>Produkttyp</th>\n      <th>Year</th>\n      <th>Month</th>\n      <th>Produkttyp Name</th>\n      <th>Produzierte Einheiten</th>\n      <th>Arbeitskosten</th>\n      <th>Materialkosten</th>\n      <th>Overhead</th>\n      <th>Energiekosten</th>\n      <th>Zielgewinnspanne</th>\n      <th>Gesamtkosten</th>\n      <th>Durchschnittliche Kosten pro Einheit</th>\n      <th>Erforderlicher Verkaufspreis</th>\n      <th>Bruttogewinnspanne</th>\n      <th>Gesamtbruttogewinn</th>\n      <th>Gesamtnettogewinn</th>\n    </tr>\n  </thead>\n  <tbody>\n    <tr>\n      <th>0</th>\n      <td>1</td>\n      <td>2020</td>\n      <td>1</td>\n      <td>Wi-Fi Smelly Socks Detector</td>\n      <td>3234</td>\n      <td>53859</td>\n      <td>4745</td>\n      <td>6421.0</td>\n      <td>12913.0</td>\n      <td>0.69</td>\n      <td>77938.0</td>\n      <td>24.099567</td>\n      <td>77.740539</td>\n      <td>0.69</td>\n      <td>173474.90</td>\n      <td>95536.90</td>\n    </tr>\n    <tr>\n      <th>1</th>\n      <td>1</td>\n      <td>2020</td>\n      <td>2</td>\n      <td>Wi-Fi Smelly Socks Detector</td>\n      <td>2360</td>\n      <td>40100</td>\n      <td>3689</td>\n      <td>3954.0</td>\n      <td>10156.0</td>\n      <td>0.69</td>\n      <td>57899.0</td>\n      <td>24.533475</td>\n      <td>79.140241</td>\n      <td>0.69</td>\n      <td>128871.97</td>\n      <td>70972.97</td>\n    </tr>\n    <tr>\n      <th>2</th>\n      <td>1</td>\n      <td>2020</td>\n      <td>3</td>\n      <td>Wi-Fi Smelly Socks Detector</td>\n      <td>7168</td>\n      <td>129729</td>\n      <td>8898</td>\n      <td>25794.0</td>\n      <td>10738.0</td>\n      <td>0.69</td>\n      <td>175159.0</td>\n      <td>24.436244</td>\n      <td>78.826595</td>\n      <td>0.69</td>\n      <td>389870.03</td>\n      <td>214711.03</td>\n    </tr>\n    <tr>\n      <th>3</th>\n      <td>1</td>\n      <td>2020</td>\n      <td>4</td>\n      <td>Wi-Fi Smelly Socks Detector</td>\n      <td>5420</td>\n      <td>108424</td>\n      <td>6906</td>\n      <td>18838.0</td>\n      <td>7840.0</td>\n      <td>0.69</td>\n      <td>142008.0</td>\n      <td>26.200738</td>\n      <td>84.518510</td>\n      <td>0.69</td>\n      <td>316082.32</td>\n      <td>174074.32</td>\n    </tr>\n    <tr>\n      <th>4</th>\n      <td>1</td>\n      <td>2020</td>\n      <td>5</td>\n      <td>Wi-Fi Smelly Socks Detector</td>\n      <td>2019</td>\n      <td>27118</td>\n      <td>2641</td>\n      <td>424.0</td>\n      <td>16035.0</td>\n      <td>0.69</td>\n      <td>46218.0</td>\n      <td>22.891530</td>\n      <td>73.843647</td>\n      <td>0.69</td>\n      <td>102872.32</td>\n      <td>56654.32</td>\n    </tr>\n    <tr>\n      <th>...</th>\n      <td>...</td>\n      <td>...</td>\n      <td>...</td>\n      <td>...</td>\n      <td>...</td>\n      <td>...</td>\n      <td>...</td>\n      <td>...</td>\n      <td>...</td>\n      <td>...</td>\n      <td>...</td>\n      <td>...</td>\n      <td>...</td>\n      <td>...</td>\n      <td>...</td>\n      <td>...</td>\n    </tr>\n    <tr>\n      <th>355</th>\n      <td>10</td>\n      <td>2022</td>\n      <td>8</td>\n      <td>CheeseStation</td>\n      <td>327</td>\n      <td>5916</td>\n      <td>4913</td>\n      <td>689.0</td>\n      <td>2939.0</td>\n      <td>0.97</td>\n      <td>14457.0</td>\n      <td>44.211009</td>\n      <td>1473.700306</td>\n      <td>0.97</td>\n      <td>467443.00</td>\n      <td>452986.00</td>\n    </tr>\n    <tr>\n      <th>356</th>\n      <td>10</td>\n      <td>2022</td>\n      <td>9</td>\n      <td>CheeseStation</td>\n      <td>154</td>\n      <td>3432</td>\n      <td>2508</td>\n      <td>1001.0</td>\n      <td>979.0</td>\n      <td>0.97</td>\n      <td>7920.0</td>\n      <td>51.428571</td>\n      <td>1714.285714</td>\n      <td>0.97</td>\n      <td>256080.00</td>\n      <td>248160.00</td>\n    </tr>\n    <tr>\n      <th>357</th>\n      <td>10</td>\n      <td>2022</td>\n      <td>10</td>\n      <td>CheeseStation</td>\n      <td>251</td>\n      <td>6906</td>\n      <td>3455</td>\n      <td>2722.0</td>\n      <td>0.0</td>\n      <td>0.97</td>\n      <td>13083.0</td>\n      <td>52.123506</td>\n      <td>1737.450199</td>\n      <td>0.97</td>\n      <td>423017.00</td>\n      <td>409934.00</td>\n    </tr>\n    <tr>\n      <th>358</th>\n      <td>10</td>\n      <td>2022</td>\n      <td>11</td>\n      <td>CheeseStation</td>\n      <td>376</td>\n      <td>10086</td>\n      <td>5551</td>\n      <td>2413.0</td>\n      <td>2451.0</td>\n      <td>0.97</td>\n      <td>20501.0</td>\n      <td>54.523936</td>\n      <td>1817.464539</td>\n      <td>0.97</td>\n      <td>662865.67</td>\n      <td>642364.67</td>\n    </tr>\n    <tr>\n      <th>359</th>\n      <td>10</td>\n      <td>2022</td>\n      <td>12</td>\n      <td>CheeseStation</td>\n      <td>328</td>\n      <td>7281</td>\n      <td>4978</td>\n      <td>1504.0</td>\n      <td>2656.0</td>\n      <td>0.97</td>\n      <td>16419.0</td>\n      <td>50.057927</td>\n      <td>1668.597561</td>\n      <td>0.97</td>\n      <td>530881.00</td>\n      <td>514462.00</td>\n    </tr>\n  </tbody>\n</table>\n<p>360 rows × 16 columns</p>\n</div>"
     },
     "execution_count": 21,
     "metadata": {},
     "output_type": "execute_result"
    }
   ],
   "source": [
    "df"
   ],
   "metadata": {
    "collapsed": false,
    "ExecuteTime": {
     "end_time": "2023-08-29T14:02:43.086155600Z",
     "start_time": "2023-08-29T14:02:43.042646200Z"
    }
   },
   "id": "fe84328e2e8f65ae"
  },
  {
   "cell_type": "code",
   "execution_count": 22,
   "outputs": [],
   "source": [
    "# Save the  DataFrame to Excel \n",
    "df.to_excel('summarized_project_3.xlsx', index=False)"
   ],
   "metadata": {
    "collapsed": false,
    "ExecuteTime": {
     "end_time": "2023-08-29T14:03:03.030776600Z",
     "start_time": "2023-08-29T14:03:02.921697300Z"
    }
   },
   "id": "f4b8c7c33aad0891"
  }
 ],
 "metadata": {
  "kernelspec": {
   "display_name": "Python 3",
   "language": "python",
   "name": "python3"
  },
  "language_info": {
   "codemirror_mode": {
    "name": "ipython",
    "version": 2
   },
   "file_extension": ".py",
   "mimetype": "text/x-python",
   "name": "python",
   "nbconvert_exporter": "python",
   "pygments_lexer": "ipython2",
   "version": "2.7.6"
  }
 },
 "nbformat": 4,
 "nbformat_minor": 5
}
