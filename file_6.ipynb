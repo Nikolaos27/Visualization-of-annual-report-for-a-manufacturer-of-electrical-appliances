{
 "cells": [
  {
   "cell_type": "code",
   "execution_count": 1,
   "id": "initial_id",
   "metadata": {
    "collapsed": true,
    "ExecuteTime": {
     "end_time": "2023-09-01T07:42:01.469948600Z",
     "start_time": "2023-09-01T07:42:01.447865600Z"
    }
   },
   "outputs": [],
   "source": [
    "import fpdf\n",
    "from fpdf import FPDF"
   ]
  },
  {
   "cell_type": "markdown",
   "source": [
    "## PDF Report for the Best Product"
   ],
   "metadata": {
    "collapsed": false
   },
   "id": "67deca4e85502406"
  },
  {
   "cell_type": "code",
   "execution_count": 2,
   "outputs": [],
   "source": [
    "# Create Footer and header\n",
    "\n",
    "class PDF(FPDF):\n",
    "    def __int__(self):\n",
    "        super().__int__()\n",
    "        \n",
    "    def header(self):\n",
    "        self.set_font(family='Arial', size=16, style='B')\n",
    "        self.cell(w=0, h=8, txt='Business Report for the Best Performing Product', border=0, align='C', ln=1)\n",
    "        self.ln(10) \n",
    "        \n",
    "    def footer(self):\n",
    "        self.set_y(-15)\n",
    "        self.set_font(family='Arial')\n",
    "        self.cell(w=0, h=8, txt=f'Page {self.page_no()}', border=0, align='R')"
   ],
   "metadata": {
    "collapsed": false,
    "ExecuteTime": {
     "end_time": "2023-09-01T07:42:01.480197500Z",
     "start_time": "2023-09-01T07:42:01.474936100Z"
    }
   },
   "id": "ec25c50a549b39ed"
  },
  {
   "cell_type": "code",
   "execution_count": 3,
   "outputs": [
    {
     "data": {
      "text/plain": "''"
     },
     "execution_count": 3,
     "metadata": {},
     "output_type": "execute_result"
    }
   ],
   "source": [
    "# Create instance from the Class PDF\n",
    "pdf = PDF() \n",
    "\n",
    "pdf.add_page() \n",
    "\n",
    "# Date and Author\n",
    "ch = 8\n",
    "pdf.set_font(family='Arial', style='', size=14)\n",
    "pdf.cell(w=30, h=ch, txt='Date', ln=0)\n",
    "pdf.cell(w=30, h=ch, txt='01.09.2023', ln=1)\n",
    "pdf.cell(w=30, h=ch, txt=\"Author: \", ln=0)\n",
    "pdf.cell(w=30, h=ch, txt=\"Nikolaos Tziatzios\", ln=2)\n",
    "\n",
    "pdf.ln(2) # add empty line\n",
    "\n",
    "pdf.set_font(family='Arial', style='UB', size=12)\n",
    "pdf.cell(w=0, h=20, txt='Best Product', ln=1)\n",
    "\n",
    "pdf.set_font(family='Arial', style='', size=12)\n",
    "text_1 = ('After analyzing the data, i come to the conclusion that the best performing product is:\\nSolar Power Rain Cloud.'\n",
    "             ' This is shown in the table below.')\n",
    "pdf.multi_cell(w=0, h=ch, txt=text_1)\n",
    "\n",
    "pdf.ln(3)\n",
    "\n",
    "# insert image\n",
    "pdf.image('photos\\\\Screenshot_20.png', x=50, y=None, w=100, h=0)\n",
    "\n",
    "text_2 = ('Die Gesamtkosten für Solar-Powered Rain Cloud sind:             3,314,105.00 Euro\\n'\n",
    "          'Die Gesamtbruttogewinn für Solar-Powered Rain Cloud sind: 24,303,436.67 Euro\\n'\n",
    "          'Die Gesamtnettogewinn für Solar-Powered Rain Cloud sind:  20,989,331.67 Euro')\n",
    "pdf.multi_cell(w=0, h=ch, txt=text_2)\n",
    "\n",
    "pdf.ln(3)\n",
    "\n",
    "pdf.image('photos\\\\Screenshot_21.png', x=50, y=None, w=100, h=0)\n",
    "\n",
    "# save the pdf output\n",
    "pdf.output('pdf\\\\report.pdf')\n"
   ],
   "metadata": {
    "collapsed": false,
    "ExecuteTime": {
     "end_time": "2023-09-01T07:42:03.664203200Z",
     "start_time": "2023-09-01T07:42:01.487180Z"
    }
   },
   "id": "d83a9b2c944f735"
  }
 ],
 "metadata": {
  "kernelspec": {
   "display_name": "Python 3",
   "language": "python",
   "name": "python3"
  },
  "language_info": {
   "codemirror_mode": {
    "name": "ipython",
    "version": 2
   },
   "file_extension": ".py",
   "mimetype": "text/x-python",
   "name": "python",
   "nbconvert_exporter": "python",
   "pygments_lexer": "ipython2",
   "version": "2.7.6"
  }
 },
 "nbformat": 4,
 "nbformat_minor": 5
}
